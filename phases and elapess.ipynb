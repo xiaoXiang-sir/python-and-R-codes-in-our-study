{
 "cells": [
  {
   "cell_type": "code",
   "execution_count": 1,
   "id": "a8411ff0",
   "metadata": {},
   "outputs": [],
   "source": [
    "import pandas as pd\n"
   ]
  },
  {
   "cell_type": "code",
   "execution_count": 2,
   "id": "cf1419bf",
   "metadata": {},
   "outputs": [],
   "source": [
    "df = pd.read_excel(r'C:\\Users\\12292\\Desktop\\endding\\xxxx.xls')\n"
   ]
  },
  {
   "cell_type": "code",
   "execution_count": 4,
   "id": "6afab238",
   "metadata": {},
   "outputs": [],
   "source": [
    "\n",
    "def apply_conditions(value):\n",
    "    if value < 7:\n",
    "        return 0\n",
    "    elif value > 9.9:\n",
    "        return 6\n",
    "    else:\n",
    "        return 3\n",
    "\n",
    "df['Hmax'] = df['Hmax'].apply(apply_conditions)"
   ]
  },
  {
   "cell_type": "code",
   "execution_count": 5,
   "id": "e9ea06d5",
   "metadata": {},
   "outputs": [],
   "source": [
    "def apply_conditions_age(value):\n",
    "    if value < 70:\n",
    "        return 0\n",
    "    else:\n",
    "        return 1\n",
    "\n",
    "\n",
    "df['age'] = df['age'].apply(apply_conditions_age)\n",
    "\n"
   ]
  },
  {
   "cell_type": "code",
   "execution_count": 6,
   "id": "16c3a381",
   "metadata": {},
   "outputs": [],
   "source": [
    "\n",
    "def apply_conditions_location(value):\n",
    "    if value in ['ACA', 'ACoA', 'PCoA']:\n",
    "        return 4\n",
    "    elif value == 'MCA':\n",
    "        return 2\n",
    "    else:\n",
    "        return 0\n",
    "\n",
    "\n",
    "df['Location'] = df['Location'].apply(apply_conditions_location)\n",
    "\n",
    "\n"
   ]
  },
  {
   "cell_type": "code",
   "execution_count": null,
   "id": "731e41a5",
   "metadata": {},
   "outputs": [],
   "source": [
    "\n",
    "print(df.head()) \n",
    "\n",
    "\n",
    "df.to_excel('phases.xlsx', index=False)"
   ]
  },
  {
   "cell_type": "code",
   "execution_count": 9,
   "id": "4908b5a7",
   "metadata": {},
   "outputs": [],
   "source": [
    "import pandas as pd\n",
    "\n",
    "\n",
    "dd = pd.read_excel(r'C:\\Users\\12292\\Desktop\\endding\\xxxx.xls')\n",
    "\n",
    "\n",
    "def apply_conditions_location(value):\n",
    "    if value == 'PCoA':\n",
    "        return 5\n",
    "    elif value == 'MCA':\n",
    "        return 3\n",
    "    else:\n",
    "        return 0\n",
    "\n",
    "dd['Location'] = dd['Location'].apply(apply_conditions_location)\n",
    "\n",
    "def apply_conditions_age(value):\n",
    "    if value <= 60:\n",
    "        return 0\n",
    "    else:\n",
    "        return 1\n",
    "\n",
    "\n",
    "dd['age'] = dd['age'].apply(apply_conditions_age)\n",
    "\n",
    "def apply_conditions_shape(value):\n",
    "    if value == 'regular':\n",
    "        return 0\n",
    "    else:\n",
    "        return 4\n",
    "\n",
    "dd['shape'] = dd['shape'].apply(apply_conditions_shape)\n",
    "\n",
    "def apply_conditions_c(value):\n",
    "    if value < 3:\n",
    "        return 0\n",
    "    elif 3 <= value < 5:\n",
    "        return 4\n",
    "    elif 5 <= value < 7:\n",
    "        return 10\n",
    "    elif 7 <= value < 10:\n",
    "        return 13\n",
    "    else:\n",
    "        return 22\n",
    "\n",
    "\n",
    "dd['Hmax'] = dd['Hmax'].apply(apply_conditions_c)\n"
   ]
  },
  {
   "cell_type": "code",
   "execution_count": null,
   "id": "31667407",
   "metadata": {},
   "outputs": [],
   "source": [
    "\n",
    "print(dd.head()) \n",
    "\n",
    "\n",
    "dd.to_excel('elapess.xlsx', index=False)\n"
   ]
  },
  {
   "cell_type": "code",
   "execution_count": null,
   "id": "654d15da",
   "metadata": {},
   "outputs": [],
   "source": [
    "age    sex  status   mBNR     mW  Hmax       HmW     AR   mWmBNR  \\\n",
    "1    female       1  2.516  3.172   4  1.050126  1.323927  1.260731   \n",
    "1      male       1  3.409  4.723  13  1.492272  2.067468  1.385450   \n",
    "0    female       0  2.668  3.764   4  1.006642  1.420165  1.410795   \n",
    "0    female       0  3.137  3.675   4  0.929524  1.088938  1.171501   \n",
    "0    female       0  4.979  4.631   4  0.758152  0.705162  0.930106   \n",
    "\n",
    "   ...  smoking  alcoholism  NumberOfAneurysm  Location  aSAH_family_history  \\\n",
    "0  ...        0           0                 1         5                    0   \n",
    "1  ...        0           0                 1         5                    0   \n",
    "2  ...        0           0                 1         0                    0   \n",
    "3  ...        0           0                 1         0                    0   \n",
    "4  ...        0           0                 1         0                    0   \n"
   ]
  }
 ],
 "metadata": {
  "kernelspec": {
   "display_name": "Python 3 (ipykernel)",
   "language": "python",
   "name": "python3"
  },
  "language_info": {
   "codemirror_mode": {
    "name": "ipython",
    "version": 3
   },
   "file_extension": ".py",
   "mimetype": "text/x-python",
   "name": "python",
   "nbconvert_exporter": "python",
   "pygments_lexer": "ipython3",
   "version": "3.11.5"
  }
 },
 "nbformat": 4,
 "nbformat_minor": 5
}
